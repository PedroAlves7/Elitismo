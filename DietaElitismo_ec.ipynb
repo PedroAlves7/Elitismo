{
  "nbformat": 4,
  "nbformat_minor": 0,
  "metadata": {
    "colab": {
      "provenance": [],
      "authorship_tag": "ABX9TyM351fLBltEUR+bn1jd1P/f",
      "include_colab_link": true
    },
    "kernelspec": {
      "name": "python3",
      "display_name": "Python 3"
    },
    "language_info": {
      "name": "python"
    }
  },
  "cells": [
    {
      "cell_type": "markdown",
      "metadata": {
        "id": "view-in-github",
        "colab_type": "text"
      },
      "source": [
        "<a href=\"https://colab.research.google.com/github/PedroAlves7/Elitismo/blob/main/DietaElitismo_ec.ipynb\" target=\"_parent\"><img src=\"https://colab.research.google.com/assets/colab-badge.svg\" alt=\"Open In Colab\"/></a>"
      ]
    },
    {
      "cell_type": "code",
      "execution_count": null,
      "metadata": {
        "colab": {
          "base_uri": "https://localhost:8080/",
          "height": 350
        },
        "id": "VpyyzVSvn50j",
        "outputId": "77f0928a-f902-434f-ab5c-44a333d55ef4"
      },
      "outputs": [
        {
          "output_type": "stream",
          "name": "stdout",
          "text": [
            "[0, 1, 2, 3, 4, 5, 6, 7, 8, 9, 10, 11, 12, 13, 14, 15, 16, 17, 18, 19, 20, 21, 22, 23, 24, 25, 26, 27, 28, 29, 30, 31, 32, 33, 34, 35, 36, 37, 38, 39, 40, 41, 42, 43, 44, 45, 46, 47, 48, 49, 50, 51, 52, 53, 54, 55, 56, 57, 58, 59, 60, 61, 62, 63, 64, 65, 66, 67, 68, 69, 70, 71, 72, 73, 74, 75, 76, 77, 78, 79, 80, 81, 82, 83, 84, 85, 86, 87, 88, 89, 90, 91, 92, 93, 94, 95, 96, 97, 98, 99]\n",
            "[772, 2176, 2176, 2176, 2176, 2176, 1966, 2176, 2176, 2176, 2176, 2176, 2176, 2176, 2176, 2176, 2176, 2176, 2176, 2176, 2176, 1931, 2176, 2176, 2176, 2176, 2176, 1984, 2176, 2176, 2176, 2176, 2176, 2176, 2176, 2176, 1898, 2176, 2176, 2176, 2176, 2176, 2033, 1951, 2176, 1984, 2176, 2176, 2176, 2176, 2176, 2176, 2176, 2176, 2176, 2176, 2176, 2176, 2176, 2176, 2176, 2176, 2176, 2176, 2176, 1898, 2176, 2176, 2176, 2176, 2176, 2176, 2176, 2176, 2176, 2176, 2176, 2176, 2176, 2176, 2176, 2176, 2176, 2176, 2024, 2176, 2176, 2176, 1984, 2176, 2176, 2176, 2176, 2176, 2176]\n"
          ]
        },
        {
          "output_type": "display_data",
          "data": {
            "text/plain": [
              "<Figure size 432x288 with 1 Axes>"
            ],
            "image/png": "[encoded data removed]"
          },
          "metadata": {
            "needs_background": "light"
          }
        }
      ],
      "source": [
        "import random\n",
        "import matplotlib.pyplot as plt\n",
        "\n",
        "# Definir os parâmetros do problema\n",
        "ITENS = [(371, 77.9, 10, 1.3), (278, 0, 32, 15.5), (245, 0, 18.3, 18.5), (225, 4.2, 29.9, 9), (212, 0, 26.7, 10.9), (210, 0, 35.7, 6.4), (192, 0, 26.9, 8.5), (152, 19.6, 10.2, 6.8), (148, 4.6, 13.9, 7.8), (143, 1.6, 13, 8.9)]\n",
        "MIN_PROT = 100\n",
        "MIN_CARBO = 150\n",
        "MIN_GORDURA = 50\n",
        "MAX_PROT = 300\n",
        "MAX_CARBO = 400\n",
        "MAX_GORDURA = 100\n",
        "TAM_POPULACAO = 50\n",
        "TAXA_MUTACAO = 0.01\n",
        "NUM_GERACOES = 100\n",
        "ELIT = 0.1\n",
        "\n",
        "\n",
        "#Criar listas para o gráfico de convergência\n",
        "geracoes = []\n",
        "melhores_fitnesses=[]\n",
        "\n",
        "# Definir as funções de avaliação e cruzamento\n",
        "def avaliar_individuo(individuo):\n",
        "    # Avaliar a qualidade do indivíduo\n",
        "    cal_total = sum([ITENS[i][0] * individuo[i] for i in range(len(individuo))])\n",
        "    prot_total = sum([ITENS[i][1] * individuo[i] for i in range(len(individuo))])\n",
        "    carbo_total = sum([ITENS[i][2] * individuo[i] for i in range(len(individuo))])\n",
        "    gordura_total = sum([ITENS[i][3] * individuo[i] for i in range(len(individuo))])\n",
        "    if (MIN_PROT < prot_total < MAX_PROT) and (MIN_CARBO < prot_total < MAX_CARBO) and (MIN_GORDURA < prot_total < MAX_GORDURA):\n",
        "        cal_total = 0\n",
        "    return cal_total\n",
        "\n",
        "def cruzar_individuos(individuo1, individuo2):\n",
        "    # Realizar o cruzamento dos indivíduos\n",
        "    ponto_corte = random.randint(1, len(individuo1) - 1)\n",
        "    filho1 = individuo1[:ponto_corte] + individuo2[ponto_corte:]\n",
        "    filho2 = individuo2[:ponto_corte] + individuo1[ponto_corte:]\n",
        "    return filho1, filho2\n",
        "\n",
        "# Gerar a população inicial\n",
        "populacao = []\n",
        "for i in range(TAM_POPULACAO):\n",
        "    individuo = [random.randint(0, 1) for i in range(len(ITENS))]\n",
        "    populacao.append(individuo)\n",
        "\n",
        "# Executar o algoritmo genético\n",
        "for geracao in range(NUM_GERACOES):\n",
        "#Variável geracao já inicializada no loop\n",
        "#O Python permite que as variáveis sejam definidas em diferentes partes do código, como em loops, funções ou condicionais.\n",
        "    # Avaliar a qualidade da população\n",
        "    fitnesses = [avaliar_individuo(individuo) for individuo in populacao]\n",
        "    sorted(populacao, key=avaliar_individuo, reverse=True)\n",
        "\n",
        "    # Selecionar dois indivíduos aleatoriamente e cruzá-los\n",
        "    nova_populacao = []\n",
        "    for i in range(int(ELIT*TAM_POPULACAO)):\n",
        "        nova_populacao.append(populacao[i])\n",
        "        populacao.remove(populacao[i])\n",
        "    for i in range(TAM_POPULACAO - int(ELIT*TAM_POPULACAO)):\n",
        "        competidores = random.sample(populacao, 4) # Seleciona quatro individuos aleatoriamente\n",
        "        vencedor = max(competidores, key=avaliar_individuo) # Seleciona o melhor individuo dentre os 4\n",
        "        pai1 = vencedor\n",
        "        competidores = random.sample(populacao, 4) # Seleciona quatro individuos aleatoriamente\n",
        "        vencedor = max(competidores, key=avaliar_individuo) # Seleciona o melhor individuo dentre os 4\n",
        "        pai2 = vencedor\n",
        "        filho1, filho2 = cruzar_individuos(pai1, pai2)\n",
        "        nova_populacao.append(filho1)\n",
        "        nova_populacao.append(filho2)\n",
        "\n",
        "    # Realizar a mutação na nova população\n",
        "    for i in range(len(nova_populacao)):\n",
        "        individuo = nova_populacao[i]\n",
        "        for j in range(len(individuo)):\n",
        "            if random.random() < TAXA_MUTACAO:\n",
        "                individuo[j] = 1 - individuo[j]\n",
        "\n",
        "    # Substituir a população anterior pela nova população\n",
        "    populacao = nova_populacao\n",
        "    # Imprimir a melhor solução encontrada até o momento\n",
        "    melhor_individuo = max(populacao, key=avaliar_individuo)\n",
        "    melhor_fitness = avaliar_individuo(melhor_individuo)\n",
        "    geracoes = list(range(NUM_GERACOES))\n",
        "    #geracoes.append(geracao)\n",
        "    melhores_fitnesses.append(melhor_fitness)\n",
        "    print(f\"Melhor solução na geração {geracao}: {melhor_individuo} (fitness = {melhor_fitness})\")\n",
        "\n",
        "# Plotar o gráfico de convergência\n",
        "print(geracoes)\n",
        "plt.plot(geracoes, melhores_fitnesses)\n",
        "plt.xlabel('Geração')\n",
        "plt.ylabel('Melhor fitness')\n",
        "plt.title('Convergência do Algoritmo Genético')\n",
        "plt.show()"
      ]
    }
  ]
}